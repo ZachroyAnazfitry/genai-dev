{
 "cells": [
  {
   "cell_type": "code",
   "execution_count": 5,
   "id": "f9965af1",
   "metadata": {},
   "outputs": [
    {
     "name": "stdout",
     "output_type": "stream",
     "text": [
      "Collecting langchain (from -r /Volumes/Z-ACER-HDD/genai-projects/zgenaidev/requirements.txt (line 1))\n",
      "  Using cached langchain-0.3.26-py3-none-any.whl.metadata (7.8 kB)\n",
      "Requirement already satisfied: ipykernel in /Volumes/Z-ACER-HDD/genai-projects/zgenaidev/genaidev/lib/python3.10/site-packages (from -r /Volumes/Z-ACER-HDD/genai-projects/zgenaidev/requirements.txt (line 2)) (6.29.5)\n",
      "Collecting python-dotenv (from -r /Volumes/Z-ACER-HDD/genai-projects/zgenaidev/requirements.txt (line 3))\n",
      "  Downloading python_dotenv-1.1.0-py3-none-any.whl.metadata (24 kB)\n",
      "Collecting langchain_community (from -r /Volumes/Z-ACER-HDD/genai-projects/zgenaidev/requirements.txt (line 4))\n",
      "  Using cached langchain_community-0.3.26-py3-none-any.whl.metadata (2.9 kB)\n",
      "Collecting pypdf (from -r /Volumes/Z-ACER-HDD/genai-projects/zgenaidev/requirements.txt (line 5))\n",
      "  Using cached pypdf-5.6.1-py3-none-any.whl.metadata (7.2 kB)\n",
      "Collecting langchain-core<1.0.0,>=0.3.66 (from langchain->-r /Volumes/Z-ACER-HDD/genai-projects/zgenaidev/requirements.txt (line 1))\n",
      "  Using cached langchain_core-0.3.66-py3-none-any.whl.metadata (5.8 kB)\n",
      "Collecting langchain-text-splitters<1.0.0,>=0.3.8 (from langchain->-r /Volumes/Z-ACER-HDD/genai-projects/zgenaidev/requirements.txt (line 1))\n",
      "  Using cached langchain_text_splitters-0.3.8-py3-none-any.whl.metadata (1.9 kB)\n",
      "Collecting langsmith>=0.1.17 (from langchain->-r /Volumes/Z-ACER-HDD/genai-projects/zgenaidev/requirements.txt (line 1))\n",
      "  Using cached langsmith-0.4.1-py3-none-any.whl.metadata (15 kB)\n",
      "Collecting pydantic<3.0.0,>=2.7.4 (from langchain->-r /Volumes/Z-ACER-HDD/genai-projects/zgenaidev/requirements.txt (line 1))\n",
      "  Using cached pydantic-2.11.7-py3-none-any.whl.metadata (67 kB)\n",
      "Collecting SQLAlchemy<3,>=1.4 (from langchain->-r /Volumes/Z-ACER-HDD/genai-projects/zgenaidev/requirements.txt (line 1))\n",
      "  Using cached sqlalchemy-2.0.41-cp310-cp310-macosx_10_9_x86_64.whl.metadata (9.6 kB)\n",
      "Collecting requests<3,>=2 (from langchain->-r /Volumes/Z-ACER-HDD/genai-projects/zgenaidev/requirements.txt (line 1))\n",
      "  Using cached requests-2.32.4-py3-none-any.whl.metadata (4.9 kB)\n",
      "Collecting PyYAML>=5.3 (from langchain->-r /Volumes/Z-ACER-HDD/genai-projects/zgenaidev/requirements.txt (line 1))\n",
      "  Using cached PyYAML-6.0.2-cp310-cp310-macosx_10_9_x86_64.whl.metadata (2.1 kB)\n",
      "Collecting async-timeout<5.0.0,>=4.0.0 (from langchain->-r /Volumes/Z-ACER-HDD/genai-projects/zgenaidev/requirements.txt (line 1))\n",
      "  Using cached async_timeout-4.0.3-py3-none-any.whl.metadata (4.2 kB)\n",
      "Collecting tenacity!=8.4.0,<10.0.0,>=8.1.0 (from langchain-core<1.0.0,>=0.3.66->langchain->-r /Volumes/Z-ACER-HDD/genai-projects/zgenaidev/requirements.txt (line 1))\n",
      "  Using cached tenacity-9.1.2-py3-none-any.whl.metadata (1.2 kB)\n",
      "Collecting jsonpatch<2.0,>=1.33 (from langchain-core<1.0.0,>=0.3.66->langchain->-r /Volumes/Z-ACER-HDD/genai-projects/zgenaidev/requirements.txt (line 1))\n",
      "  Using cached jsonpatch-1.33-py2.py3-none-any.whl.metadata (3.0 kB)\n",
      "Requirement already satisfied: packaging<25,>=23.2 in /Volumes/Z-ACER-HDD/genai-projects/zgenaidev/genaidev/lib/python3.10/site-packages (from langchain-core<1.0.0,>=0.3.66->langchain->-r /Volumes/Z-ACER-HDD/genai-projects/zgenaidev/requirements.txt (line 1)) (24.2)\n",
      "Requirement already satisfied: typing-extensions>=4.7 in /Volumes/Z-ACER-HDD/genai-projects/zgenaidev/genaidev/lib/python3.10/site-packages (from langchain-core<1.0.0,>=0.3.66->langchain->-r /Volumes/Z-ACER-HDD/genai-projects/zgenaidev/requirements.txt (line 1)) (4.12.2)\n",
      "Collecting jsonpointer>=1.9 (from jsonpatch<2.0,>=1.33->langchain-core<1.0.0,>=0.3.66->langchain->-r /Volumes/Z-ACER-HDD/genai-projects/zgenaidev/requirements.txt (line 1))\n",
      "  Using cached jsonpointer-3.0.0-py2.py3-none-any.whl.metadata (2.3 kB)\n",
      "Collecting annotated-types>=0.6.0 (from pydantic<3.0.0,>=2.7.4->langchain->-r /Volumes/Z-ACER-HDD/genai-projects/zgenaidev/requirements.txt (line 1))\n",
      "  Using cached annotated_types-0.7.0-py3-none-any.whl.metadata (15 kB)\n",
      "Collecting pydantic-core==2.33.2 (from pydantic<3.0.0,>=2.7.4->langchain->-r /Volumes/Z-ACER-HDD/genai-projects/zgenaidev/requirements.txt (line 1))\n",
      "  Using cached pydantic_core-2.33.2-cp310-cp310-macosx_10_12_x86_64.whl.metadata (6.8 kB)\n",
      "Collecting typing-inspection>=0.4.0 (from pydantic<3.0.0,>=2.7.4->langchain->-r /Volumes/Z-ACER-HDD/genai-projects/zgenaidev/requirements.txt (line 1))\n",
      "  Using cached typing_inspection-0.4.1-py3-none-any.whl.metadata (2.6 kB)\n",
      "Collecting charset_normalizer<4,>=2 (from requests<3,>=2->langchain->-r /Volumes/Z-ACER-HDD/genai-projects/zgenaidev/requirements.txt (line 1))\n",
      "  Using cached charset_normalizer-3.4.2-cp310-cp310-macosx_10_9_universal2.whl.metadata (35 kB)\n",
      "Collecting idna<4,>=2.5 (from requests<3,>=2->langchain->-r /Volumes/Z-ACER-HDD/genai-projects/zgenaidev/requirements.txt (line 1))\n",
      "  Using cached idna-3.10-py3-none-any.whl.metadata (10 kB)\n",
      "Collecting urllib3<3,>=1.21.1 (from requests<3,>=2->langchain->-r /Volumes/Z-ACER-HDD/genai-projects/zgenaidev/requirements.txt (line 1))\n",
      "  Using cached urllib3-2.5.0-py3-none-any.whl.metadata (6.5 kB)\n",
      "Collecting certifi>=2017.4.17 (from requests<3,>=2->langchain->-r /Volumes/Z-ACER-HDD/genai-projects/zgenaidev/requirements.txt (line 1))\n",
      "  Using cached certifi-2025.6.15-py3-none-any.whl.metadata (2.4 kB)\n",
      "Collecting greenlet>=1 (from SQLAlchemy<3,>=1.4->langchain->-r /Volumes/Z-ACER-HDD/genai-projects/zgenaidev/requirements.txt (line 1))\n",
      "  Using cached greenlet-3.2.3-cp310-cp310-macosx_11_0_universal2.whl.metadata (4.1 kB)\n",
      "Requirement already satisfied: appnope in /Volumes/Z-ACER-HDD/genai-projects/zgenaidev/genaidev/lib/python3.10/site-packages (from ipykernel->-r /Volumes/Z-ACER-HDD/genai-projects/zgenaidev/requirements.txt (line 2)) (0.1.2)\n",
      "Requirement already satisfied: comm>=0.1.1 in /Volumes/Z-ACER-HDD/genai-projects/zgenaidev/genaidev/lib/python3.10/site-packages (from ipykernel->-r /Volumes/Z-ACER-HDD/genai-projects/zgenaidev/requirements.txt (line 2)) (0.2.1)\n",
      "Requirement already satisfied: debugpy>=1.6.5 in /Volumes/Z-ACER-HDD/genai-projects/zgenaidev/genaidev/lib/python3.10/site-packages (from ipykernel->-r /Volumes/Z-ACER-HDD/genai-projects/zgenaidev/requirements.txt (line 2)) (1.8.11)\n",
      "Requirement already satisfied: ipython>=7.23.1 in /Volumes/Z-ACER-HDD/genai-projects/zgenaidev/genaidev/lib/python3.10/site-packages (from ipykernel->-r /Volumes/Z-ACER-HDD/genai-projects/zgenaidev/requirements.txt (line 2)) (8.30.0)\n",
      "Requirement already satisfied: jupyter-client>=6.1.12 in /Volumes/Z-ACER-HDD/genai-projects/zgenaidev/genaidev/lib/python3.10/site-packages (from ipykernel->-r /Volumes/Z-ACER-HDD/genai-projects/zgenaidev/requirements.txt (line 2)) (8.6.3)\n",
      "Requirement already satisfied: jupyter-core!=5.0.*,>=4.12 in /Volumes/Z-ACER-HDD/genai-projects/zgenaidev/genaidev/lib/python3.10/site-packages (from ipykernel->-r /Volumes/Z-ACER-HDD/genai-projects/zgenaidev/requirements.txt (line 2)) (5.7.2)\n",
      "Requirement already satisfied: matplotlib-inline>=0.1 in /Volumes/Z-ACER-HDD/genai-projects/zgenaidev/genaidev/lib/python3.10/site-packages (from ipykernel->-r /Volumes/Z-ACER-HDD/genai-projects/zgenaidev/requirements.txt (line 2)) (0.1.6)\n",
      "Requirement already satisfied: nest-asyncio in /Volumes/Z-ACER-HDD/genai-projects/zgenaidev/genaidev/lib/python3.10/site-packages (from ipykernel->-r /Volumes/Z-ACER-HDD/genai-projects/zgenaidev/requirements.txt (line 2)) (1.6.0)\n",
      "Requirement already satisfied: psutil in /Volumes/Z-ACER-HDD/genai-projects/zgenaidev/genaidev/lib/python3.10/site-packages (from ipykernel->-r /Volumes/Z-ACER-HDD/genai-projects/zgenaidev/requirements.txt (line 2)) (5.9.0)\n",
      "Requirement already satisfied: pyzmq>=24 in /Volumes/Z-ACER-HDD/genai-projects/zgenaidev/genaidev/lib/python3.10/site-packages (from ipykernel->-r /Volumes/Z-ACER-HDD/genai-projects/zgenaidev/requirements.txt (line 2)) (26.2.0)\n",
      "Requirement already satisfied: tornado>=6.1 in /Volumes/Z-ACER-HDD/genai-projects/zgenaidev/genaidev/lib/python3.10/site-packages (from ipykernel->-r /Volumes/Z-ACER-HDD/genai-projects/zgenaidev/requirements.txt (line 2)) (6.5.1)\n",
      "Requirement already satisfied: traitlets>=5.4.0 in /Volumes/Z-ACER-HDD/genai-projects/zgenaidev/genaidev/lib/python3.10/site-packages (from ipykernel->-r /Volumes/Z-ACER-HDD/genai-projects/zgenaidev/requirements.txt (line 2)) (5.14.3)\n",
      "Collecting aiohttp<4.0.0,>=3.8.3 (from langchain_community->-r /Volumes/Z-ACER-HDD/genai-projects/zgenaidev/requirements.txt (line 4))\n",
      "  Downloading aiohttp-3.12.13-cp310-cp310-macosx_10_9_x86_64.whl.metadata (7.6 kB)\n",
      "Collecting dataclasses-json<0.7,>=0.5.7 (from langchain_community->-r /Volumes/Z-ACER-HDD/genai-projects/zgenaidev/requirements.txt (line 4))\n",
      "  Using cached dataclasses_json-0.6.7-py3-none-any.whl.metadata (25 kB)\n",
      "Collecting pydantic-settings<3.0.0,>=2.4.0 (from langchain_community->-r /Volumes/Z-ACER-HDD/genai-projects/zgenaidev/requirements.txt (line 4))\n",
      "  Downloading pydantic_settings-2.10.0-py3-none-any.whl.metadata (3.4 kB)\n",
      "Collecting httpx-sse<1.0.0,>=0.4.0 (from langchain_community->-r /Volumes/Z-ACER-HDD/genai-projects/zgenaidev/requirements.txt (line 4))\n",
      "  Using cached httpx_sse-0.4.0-py3-none-any.whl.metadata (9.0 kB)\n",
      "Collecting numpy>=1.26.2 (from langchain_community->-r /Volumes/Z-ACER-HDD/genai-projects/zgenaidev/requirements.txt (line 4))\n",
      "  Downloading numpy-2.2.6-cp310-cp310-macosx_10_9_x86_64.whl.metadata (62 kB)\n",
      "Collecting aiohappyeyeballs>=2.5.0 (from aiohttp<4.0.0,>=3.8.3->langchain_community->-r /Volumes/Z-ACER-HDD/genai-projects/zgenaidev/requirements.txt (line 4))\n",
      "  Downloading aiohappyeyeballs-2.6.1-py3-none-any.whl.metadata (5.9 kB)\n",
      "Collecting aiosignal>=1.1.2 (from aiohttp<4.0.0,>=3.8.3->langchain_community->-r /Volumes/Z-ACER-HDD/genai-projects/zgenaidev/requirements.txt (line 4))\n",
      "  Downloading aiosignal-1.3.2-py2.py3-none-any.whl.metadata (3.8 kB)\n",
      "Collecting attrs>=17.3.0 (from aiohttp<4.0.0,>=3.8.3->langchain_community->-r /Volumes/Z-ACER-HDD/genai-projects/zgenaidev/requirements.txt (line 4))\n",
      "  Downloading attrs-25.3.0-py3-none-any.whl.metadata (10 kB)\n",
      "Collecting frozenlist>=1.1.1 (from aiohttp<4.0.0,>=3.8.3->langchain_community->-r /Volumes/Z-ACER-HDD/genai-projects/zgenaidev/requirements.txt (line 4))\n",
      "  Downloading frozenlist-1.7.0-cp310-cp310-macosx_10_9_x86_64.whl.metadata (18 kB)\n",
      "Collecting multidict<7.0,>=4.5 (from aiohttp<4.0.0,>=3.8.3->langchain_community->-r /Volumes/Z-ACER-HDD/genai-projects/zgenaidev/requirements.txt (line 4))\n",
      "  Downloading multidict-6.5.0-cp310-cp310-macosx_10_9_x86_64.whl.metadata (5.3 kB)\n",
      "Collecting propcache>=0.2.0 (from aiohttp<4.0.0,>=3.8.3->langchain_community->-r /Volumes/Z-ACER-HDD/genai-projects/zgenaidev/requirements.txt (line 4))\n",
      "  Downloading propcache-0.3.2-cp310-cp310-macosx_10_9_x86_64.whl.metadata (12 kB)\n",
      "Collecting yarl<2.0,>=1.17.0 (from aiohttp<4.0.0,>=3.8.3->langchain_community->-r /Volumes/Z-ACER-HDD/genai-projects/zgenaidev/requirements.txt (line 4))\n",
      "  Downloading yarl-1.20.1-cp310-cp310-macosx_10_9_x86_64.whl.metadata (73 kB)\n",
      "Collecting marshmallow<4.0.0,>=3.18.0 (from dataclasses-json<0.7,>=0.5.7->langchain_community->-r /Volumes/Z-ACER-HDD/genai-projects/zgenaidev/requirements.txt (line 4))\n",
      "  Using cached marshmallow-3.26.1-py3-none-any.whl.metadata (7.3 kB)\n",
      "Collecting typing-inspect<1,>=0.4.0 (from dataclasses-json<0.7,>=0.5.7->langchain_community->-r /Volumes/Z-ACER-HDD/genai-projects/zgenaidev/requirements.txt (line 4))\n",
      "  Using cached typing_inspect-0.9.0-py3-none-any.whl.metadata (1.5 kB)\n",
      "Collecting mypy-extensions>=0.3.0 (from typing-inspect<1,>=0.4.0->dataclasses-json<0.7,>=0.5.7->langchain_community->-r /Volumes/Z-ACER-HDD/genai-projects/zgenaidev/requirements.txt (line 4))\n",
      "  Using cached mypy_extensions-1.1.0-py3-none-any.whl.metadata (1.1 kB)\n",
      "Requirement already satisfied: decorator in /Volumes/Z-ACER-HDD/genai-projects/zgenaidev/genaidev/lib/python3.10/site-packages (from ipython>=7.23.1->ipykernel->-r /Volumes/Z-ACER-HDD/genai-projects/zgenaidev/requirements.txt (line 2)) (5.1.1)\n",
      "Requirement already satisfied: jedi>=0.16 in /Volumes/Z-ACER-HDD/genai-projects/zgenaidev/genaidev/lib/python3.10/site-packages (from ipython>=7.23.1->ipykernel->-r /Volumes/Z-ACER-HDD/genai-projects/zgenaidev/requirements.txt (line 2)) (0.19.2)\n",
      "Requirement already satisfied: prompt-toolkit<3.1.0,>=3.0.41 in /Volumes/Z-ACER-HDD/genai-projects/zgenaidev/genaidev/lib/python3.10/site-packages (from ipython>=7.23.1->ipykernel->-r /Volumes/Z-ACER-HDD/genai-projects/zgenaidev/requirements.txt (line 2)) (3.0.43)\n",
      "Requirement already satisfied: pygments>=2.4.0 in /Volumes/Z-ACER-HDD/genai-projects/zgenaidev/genaidev/lib/python3.10/site-packages (from ipython>=7.23.1->ipykernel->-r /Volumes/Z-ACER-HDD/genai-projects/zgenaidev/requirements.txt (line 2)) (2.19.1)\n",
      "Requirement already satisfied: stack-data in /Volumes/Z-ACER-HDD/genai-projects/zgenaidev/genaidev/lib/python3.10/site-packages (from ipython>=7.23.1->ipykernel->-r /Volumes/Z-ACER-HDD/genai-projects/zgenaidev/requirements.txt (line 2)) (0.2.0)\n",
      "Requirement already satisfied: exceptiongroup in /Volumes/Z-ACER-HDD/genai-projects/zgenaidev/genaidev/lib/python3.10/site-packages (from ipython>=7.23.1->ipykernel->-r /Volumes/Z-ACER-HDD/genai-projects/zgenaidev/requirements.txt (line 2)) (1.2.0)\n",
      "Requirement already satisfied: pexpect>4.3 in /Volumes/Z-ACER-HDD/genai-projects/zgenaidev/genaidev/lib/python3.10/site-packages (from ipython>=7.23.1->ipykernel->-r /Volumes/Z-ACER-HDD/genai-projects/zgenaidev/requirements.txt (line 2)) (4.9.0)\n",
      "Requirement already satisfied: wcwidth in /Volumes/Z-ACER-HDD/genai-projects/zgenaidev/genaidev/lib/python3.10/site-packages (from prompt-toolkit<3.1.0,>=3.0.41->ipython>=7.23.1->ipykernel->-r /Volumes/Z-ACER-HDD/genai-projects/zgenaidev/requirements.txt (line 2)) (0.2.13)\n",
      "Requirement already satisfied: parso<0.9.0,>=0.8.4 in /Volumes/Z-ACER-HDD/genai-projects/zgenaidev/genaidev/lib/python3.10/site-packages (from jedi>=0.16->ipython>=7.23.1->ipykernel->-r /Volumes/Z-ACER-HDD/genai-projects/zgenaidev/requirements.txt (line 2)) (0.8.4)\n",
      "Requirement already satisfied: python-dateutil>=2.8.2 in /Volumes/Z-ACER-HDD/genai-projects/zgenaidev/genaidev/lib/python3.10/site-packages (from jupyter-client>=6.1.12->ipykernel->-r /Volumes/Z-ACER-HDD/genai-projects/zgenaidev/requirements.txt (line 2)) (2.9.0.post0)\n",
      "Requirement already satisfied: platformdirs>=2.5 in /Volumes/Z-ACER-HDD/genai-projects/zgenaidev/genaidev/lib/python3.10/site-packages (from jupyter-core!=5.0.*,>=4.12->ipykernel->-r /Volumes/Z-ACER-HDD/genai-projects/zgenaidev/requirements.txt (line 2)) (4.3.7)\n",
      "Collecting httpx<1,>=0.23.0 (from langsmith>=0.1.17->langchain->-r /Volumes/Z-ACER-HDD/genai-projects/zgenaidev/requirements.txt (line 1))\n",
      "  Using cached httpx-0.28.1-py3-none-any.whl.metadata (7.1 kB)\n",
      "Collecting orjson<4.0.0,>=3.9.14 (from langsmith>=0.1.17->langchain->-r /Volumes/Z-ACER-HDD/genai-projects/zgenaidev/requirements.txt (line 1))\n",
      "  Using cached orjson-3.10.18-cp310-cp310-macosx_10_15_x86_64.macosx_11_0_arm64.macosx_10_15_universal2.whl.metadata (41 kB)\n",
      "Collecting requests-toolbelt<2.0.0,>=1.0.0 (from langsmith>=0.1.17->langchain->-r /Volumes/Z-ACER-HDD/genai-projects/zgenaidev/requirements.txt (line 1))\n",
      "  Using cached requests_toolbelt-1.0.0-py2.py3-none-any.whl.metadata (14 kB)\n",
      "Collecting zstandard<0.24.0,>=0.23.0 (from langsmith>=0.1.17->langchain->-r /Volumes/Z-ACER-HDD/genai-projects/zgenaidev/requirements.txt (line 1))\n",
      "  Using cached zstandard-0.23.0-cp310-cp310-macosx_10_9_x86_64.whl.metadata (3.0 kB)\n",
      "Collecting anyio (from httpx<1,>=0.23.0->langsmith>=0.1.17->langchain->-r /Volumes/Z-ACER-HDD/genai-projects/zgenaidev/requirements.txt (line 1))\n",
      "  Using cached anyio-4.9.0-py3-none-any.whl.metadata (4.7 kB)\n",
      "Collecting httpcore==1.* (from httpx<1,>=0.23.0->langsmith>=0.1.17->langchain->-r /Volumes/Z-ACER-HDD/genai-projects/zgenaidev/requirements.txt (line 1))\n",
      "  Using cached httpcore-1.0.9-py3-none-any.whl.metadata (21 kB)\n",
      "Collecting h11>=0.16 (from httpcore==1.*->httpx<1,>=0.23.0->langsmith>=0.1.17->langchain->-r /Volumes/Z-ACER-HDD/genai-projects/zgenaidev/requirements.txt (line 1))\n",
      "  Using cached h11-0.16.0-py3-none-any.whl.metadata (8.3 kB)\n",
      "Requirement already satisfied: ptyprocess>=0.5 in /Volumes/Z-ACER-HDD/genai-projects/zgenaidev/genaidev/lib/python3.10/site-packages (from pexpect>4.3->ipython>=7.23.1->ipykernel->-r /Volumes/Z-ACER-HDD/genai-projects/zgenaidev/requirements.txt (line 2)) (0.7.0)\n",
      "Requirement already satisfied: six>=1.5 in /Volumes/Z-ACER-HDD/genai-projects/zgenaidev/genaidev/lib/python3.10/site-packages (from python-dateutil>=2.8.2->jupyter-client>=6.1.12->ipykernel->-r /Volumes/Z-ACER-HDD/genai-projects/zgenaidev/requirements.txt (line 2)) (1.17.0)\n",
      "Collecting sniffio>=1.1 (from anyio->httpx<1,>=0.23.0->langsmith>=0.1.17->langchain->-r /Volumes/Z-ACER-HDD/genai-projects/zgenaidev/requirements.txt (line 1))\n",
      "  Using cached sniffio-1.3.1-py3-none-any.whl.metadata (3.9 kB)\n",
      "Requirement already satisfied: executing in /Volumes/Z-ACER-HDD/genai-projects/zgenaidev/genaidev/lib/python3.10/site-packages (from stack-data->ipython>=7.23.1->ipykernel->-r /Volumes/Z-ACER-HDD/genai-projects/zgenaidev/requirements.txt (line 2)) (0.8.3)\n",
      "Requirement already satisfied: asttokens in /Volumes/Z-ACER-HDD/genai-projects/zgenaidev/genaidev/lib/python3.10/site-packages (from stack-data->ipython>=7.23.1->ipykernel->-r /Volumes/Z-ACER-HDD/genai-projects/zgenaidev/requirements.txt (line 2)) (3.0.0)\n",
      "Requirement already satisfied: pure-eval in /Volumes/Z-ACER-HDD/genai-projects/zgenaidev/genaidev/lib/python3.10/site-packages (from stack-data->ipython>=7.23.1->ipykernel->-r /Volumes/Z-ACER-HDD/genai-projects/zgenaidev/requirements.txt (line 2)) (0.2.2)\n",
      "Using cached langchain-0.3.26-py3-none-any.whl (1.0 MB)\n",
      "Using cached async_timeout-4.0.3-py3-none-any.whl (5.7 kB)\n",
      "Using cached langchain_core-0.3.66-py3-none-any.whl (438 kB)\n",
      "Using cached jsonpatch-1.33-py2.py3-none-any.whl (12 kB)\n",
      "Using cached langchain_text_splitters-0.3.8-py3-none-any.whl (32 kB)\n",
      "Using cached pydantic-2.11.7-py3-none-any.whl (444 kB)\n",
      "Using cached pydantic_core-2.33.2-cp310-cp310-macosx_10_12_x86_64.whl (2.0 MB)\n",
      "Using cached requests-2.32.4-py3-none-any.whl (64 kB)\n",
      "Using cached charset_normalizer-3.4.2-cp310-cp310-macosx_10_9_universal2.whl (201 kB)\n",
      "Using cached idna-3.10-py3-none-any.whl (70 kB)\n",
      "Using cached sqlalchemy-2.0.41-cp310-cp310-macosx_10_9_x86_64.whl (2.1 MB)\n",
      "Using cached tenacity-9.1.2-py3-none-any.whl (28 kB)\n",
      "Using cached urllib3-2.5.0-py3-none-any.whl (129 kB)\n",
      "Downloading python_dotenv-1.1.0-py3-none-any.whl (20 kB)\n",
      "Downloading langchain_community-0.3.26-py3-none-any.whl (2.5 MB)\n",
      "\u001b[2K   \u001b[90m━━━━━━━━━━━━━━━━━━━━━━━━━━━━━━━━━━━━━━━━\u001b[0m \u001b[32m2.5/2.5 MB\u001b[0m \u001b[31m7.3 MB/s\u001b[0m eta \u001b[36m0:00:00\u001b[0ma \u001b[36m0:00:01\u001b[0m\n",
      "\u001b[?25hDownloading aiohttp-3.12.13-cp310-cp310-macosx_10_9_x86_64.whl (478 kB)\n",
      "Using cached dataclasses_json-0.6.7-py3-none-any.whl (28 kB)\n",
      "Downloading httpx_sse-0.4.0-py3-none-any.whl (7.8 kB)\n",
      "Using cached marshmallow-3.26.1-py3-none-any.whl (50 kB)\n",
      "Downloading multidict-6.5.0-cp310-cp310-macosx_10_9_x86_64.whl (43 kB)\n",
      "Downloading pydantic_settings-2.10.0-py3-none-any.whl (45 kB)\n",
      "Using cached typing_inspect-0.9.0-py3-none-any.whl (8.8 kB)\n",
      "Downloading yarl-1.20.1-cp310-cp310-macosx_10_9_x86_64.whl (90 kB)\n",
      "Using cached pypdf-5.6.1-py3-none-any.whl (304 kB)\n",
      "Downloading aiohappyeyeballs-2.6.1-py3-none-any.whl (15 kB)\n",
      "Downloading aiosignal-1.3.2-py2.py3-none-any.whl (7.6 kB)\n",
      "Using cached annotated_types-0.7.0-py3-none-any.whl (13 kB)\n",
      "Downloading attrs-25.3.0-py3-none-any.whl (63 kB)\n",
      "Using cached certifi-2025.6.15-py3-none-any.whl (157 kB)\n",
      "Downloading frozenlist-1.7.0-cp310-cp310-macosx_10_9_x86_64.whl (47 kB)\n",
      "Using cached greenlet-3.2.3-cp310-cp310-macosx_11_0_universal2.whl (268 kB)\n",
      "Using cached jsonpointer-3.0.0-py2.py3-none-any.whl (7.6 kB)\n",
      "Using cached langsmith-0.4.1-py3-none-any.whl (364 kB)\n",
      "Using cached httpx-0.28.1-py3-none-any.whl (73 kB)\n",
      "Using cached httpcore-1.0.9-py3-none-any.whl (78 kB)\n",
      "Using cached orjson-3.10.18-cp310-cp310-macosx_10_15_x86_64.macosx_11_0_arm64.macosx_10_15_universal2.whl (248 kB)\n",
      "Using cached requests_toolbelt-1.0.0-py2.py3-none-any.whl (54 kB)\n",
      "Using cached zstandard-0.23.0-cp310-cp310-macosx_10_9_x86_64.whl (788 kB)\n",
      "Using cached h11-0.16.0-py3-none-any.whl (37 kB)\n",
      "Using cached mypy_extensions-1.1.0-py3-none-any.whl (5.0 kB)\n",
      "Downloading numpy-2.2.6-cp310-cp310-macosx_10_9_x86_64.whl (21.2 MB)\n",
      "\u001b[2K   \u001b[90m━━━━━━━━━━━━━━━━━━━━━━━━━━━━━━━━━━━━━━━━\u001b[0m \u001b[32m21.2/21.2 MB\u001b[0m \u001b[31m12.5 MB/s\u001b[0m eta \u001b[36m0:00:00\u001b[0m00:01\u001b[0m00:01\u001b[0m\n",
      "\u001b[?25hDownloading propcache-0.3.2-cp310-cp310-macosx_10_9_x86_64.whl (43 kB)\n",
      "Using cached PyYAML-6.0.2-cp310-cp310-macosx_10_9_x86_64.whl (184 kB)\n",
      "Using cached typing_inspection-0.4.1-py3-none-any.whl (14 kB)\n",
      "Using cached anyio-4.9.0-py3-none-any.whl (100 kB)\n",
      "Using cached sniffio-1.3.1-py3-none-any.whl (10 kB)\n",
      "Installing collected packages: zstandard, urllib3, typing-inspection, tenacity, sniffio, PyYAML, python-dotenv, pypdf, pydantic-core, propcache, orjson, numpy, mypy-extensions, multidict, marshmallow, jsonpointer, idna, httpx-sse, h11, greenlet, frozenlist, charset_normalizer, certifi, attrs, async-timeout, annotated-types, aiohappyeyeballs, yarl, typing-inspect, SQLAlchemy, requests, pydantic, jsonpatch, httpcore, anyio, aiosignal, requests-toolbelt, pydantic-settings, httpx, dataclasses-json, aiohttp, langsmith, langchain-core, langchain-text-splitters, langchain, langchain_community\n",
      "\u001b[2K   \u001b[90m━━━━━━━━━━━━━━━━━━━━━━━━━━━━━━━━━━━━━━━━\u001b[0m \u001b[32m46/46\u001b[0m [langchain_community]ommunity]ext-splitters]\n",
      "\u001b[1A\u001b[2KSuccessfully installed PyYAML-6.0.2 SQLAlchemy-2.0.41 aiohappyeyeballs-2.6.1 aiohttp-3.12.13 aiosignal-1.3.2 annotated-types-0.7.0 anyio-4.9.0 async-timeout-4.0.3 attrs-25.3.0 certifi-2025.6.15 charset_normalizer-3.4.2 dataclasses-json-0.6.7 frozenlist-1.7.0 greenlet-3.2.3 h11-0.16.0 httpcore-1.0.9 httpx-0.28.1 httpx-sse-0.4.0 idna-3.10 jsonpatch-1.33 jsonpointer-3.0.0 langchain-0.3.26 langchain-core-0.3.66 langchain-text-splitters-0.3.8 langchain_community-0.3.26 langsmith-0.4.1 marshmallow-3.26.1 multidict-6.5.0 mypy-extensions-1.1.0 numpy-2.2.6 orjson-3.10.18 propcache-0.3.2 pydantic-2.11.7 pydantic-core-2.33.2 pydantic-settings-2.10.0 pypdf-5.6.1 python-dotenv-1.1.0 requests-2.32.4 requests-toolbelt-1.0.0 sniffio-1.3.1 tenacity-9.1.2 typing-inspect-0.9.0 typing-inspection-0.4.1 urllib3-2.5.0 yarl-1.20.1 zstandard-0.23.0\n"
     ]
    }
   ],
   "source": [
    "!pip install -r /Volumes/Z-ACER-HDD/genai-projects/zgenaidev/requirements.txt"
   ]
  },
  {
   "cell_type": "markdown",
   "id": "032f69d8",
   "metadata": {},
   "source": [
    "Data Ingestion with Document Loaders"
   ]
  },
  {
   "cell_type": "code",
   "execution_count": 2,
   "id": "d40b3d6c",
   "metadata": {},
   "outputs": [
    {
     "name": "stdout",
     "output_type": "stream",
     "text": [
      "/Volumes/Z-ACER-HDD/genai-projects/zgenaidev/genaidev/bin/python\n"
     ]
    }
   ],
   "source": [
    "import sys\n",
    "print(sys.executable)"
   ]
  },
  {
   "cell_type": "code",
   "execution_count": 6,
   "id": "47451f1e",
   "metadata": {},
   "outputs": [
    {
     "name": "stdout",
     "output_type": "stream",
     "text": [
      "Name: langchain\n",
      "Version: 0.3.26\n",
      "Summary: Building applications with LLMs through composability\n",
      "Home-page: \n",
      "Author: \n",
      "Author-email: \n",
      "License: MIT\n",
      "Location: /Volumes/Z-ACER-HDD/genai-projects/zgenaidev/genaidev/lib/python3.10/site-packages\n",
      "Requires: async-timeout, langchain-core, langchain-text-splitters, langsmith, pydantic, PyYAML, requests, SQLAlchemy\n",
      "Required-by: langchain-community\n"
     ]
    }
   ],
   "source": [
    "!pip show langchain"
   ]
  },
  {
   "cell_type": "code",
   "execution_count": 2,
   "id": "f98be73d",
   "metadata": {},
   "outputs": [
    {
     "name": "stdout",
     "output_type": "stream",
     "text": [
      "/Volumes/Z-ACER-HDD/genai-projects/zgenaidev/genaidev/bin/pip\n"
     ]
    }
   ],
   "source": [
    "!which pip"
   ]
  },
  {
   "cell_type": "code",
   "execution_count": null,
   "id": "5a5d9e8d",
   "metadata": {},
   "outputs": [],
   "source": []
  }
 ],
 "metadata": {
  "kernelspec": {
   "display_name": "Python (genaidev)",
   "language": "python",
   "name": "genaidev"
  },
  "language_info": {
   "codemirror_mode": {
    "name": "ipython",
    "version": 3
   },
   "file_extension": ".py",
   "mimetype": "text/x-python",
   "name": "python",
   "nbconvert_exporter": "python",
   "pygments_lexer": "ipython3",
   "version": "3.10.18"
  }
 },
 "nbformat": 4,
 "nbformat_minor": 5
}
