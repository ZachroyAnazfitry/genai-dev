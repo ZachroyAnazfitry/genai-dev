{
 "cells": [
  {
   "cell_type": "markdown",
   "id": "42b6c049",
   "metadata": {},
   "source": [
    "Text splitting technique\n",
    "* divide generic text into smaller chunks\n",
    "* repeatable chunks of text is expected as the chunk overlap has been specified"
   ]
  },
  {
   "cell_type": "code",
   "execution_count": null,
   "id": "c9ff2710",
   "metadata": {},
   "outputs": [
    {
     "data": {
      "text/plain": [
       "'The world must be made safe for democracy. Its peace must be planted upon the tested foundations of political liberty. We have no selfish ends to serve. We desire no conquest, no dominion. We seek no indemnities for ourselves, no material compensation for the sacrifices we shall freely make. We are but one of the champions of the rights of mankind. We shall be satisfied when those rights have been made as secure as the faith and the freedom of nations can make them.\\n\\nJust because we fight without rancor and without selfish object, seeking nothing for ourselves but what we shall wish to share with all free peoples, we shall, I feel confident, conduct our operations as belligerents without passion and ourselves observe with proud punctilio the principles of right and of fair play we profess to be fighting for.\\n\\n…\\n\\nIt will be all the easier for us to conduct ourselves as belligerents in a high spirit of right and fairness because we act without animus, not in enmity toward a people or with the desire to bring any injury or disadvantage upon them, but only in armed opposition to an irresponsible government which has thrown aside all considerations of humanity and of right and is running amuck. We are, let me say again, the sincere friends of the German people, and shall desire nothing so much as the early reestablishment of intimate relations of mutual advantage between us—however hard it may be for them, for the time being, to believe that this is spoken from our hearts.\\n\\nWe have borne with their present government through all these bitter months because of that friendship—exercising a patience and forbearance which would otherwise have been impossible. We shall, happily, still have an opportunity to prove that friendship in our daily attitude and actions toward the millions of men and women of German birth and native sympathy who live among us and share our life, and we shall be proud to prove it toward all who are in fact loyal to their neighbors and to the government in the hour of test. They are, most of them, as true and loyal Americans as if they had never known any other fealty or allegiance. They will be prompt to stand with us in rebuking and restraining the few who may be of a different mind and purpose. If there should be disloyalty, it will be dealt with with a firm hand of stern repression; but, if it lifts its head at all, it will lift it only here and there and without countenance except from a lawless and malignant few.\\n\\nIt is a distressing and oppressive duty, gentlemen of the Congress, which I have performed in thus addressing you. There are, it may be, many months of fiery trial and sacrifice ahead of us. It is a fearful thing to lead this great peaceful people into war, into the most terrible and disastrous of all wars, civilization itself seeming to be in the balance. But the right is more precious than peace, and we shall fight for the things which we have always carried nearest our hearts—for democracy, for the right of those who submit to authority to have a voice in their own governments, for the rights and liberties of small nations, for a universal dominion of right by such a concert of free peoples as shall bring peace and safety to all nations and make the world itself at last free.\\n\\nTo such a task we can dedicate our lives and our fortunes, everything that we are and everything that we have, with the pride of those who know that the day has come when America is privileged to spend her blood and her might for the principles that gave her birth and happiness and the peace which she has treasured. God helping her, she can do no other.'"
      ]
     },
     "execution_count": 50,
     "metadata": {},
     "output_type": "execute_result"
    }
   ],
   "source": [
    "#install required packages\n",
    "from langchain_text_splitters import RecursiveCharacterTextSplitter, CharacterTextSplitter, HTMLHeaderTextSplitter\n",
    "from langchain_core.documents import Document\n",
    "\n",
    "# get data from text\n",
    "with open('speech.txt', 'r') as file:\n",
    "    data = file.read()\n",
    "\n",
    "data\n",
    "\n",
    "#check for overlap(repeatable) characters"
   ]
  },
  {
   "cell_type": "code",
   "execution_count": 51,
   "id": "5deb8601",
   "metadata": {},
   "outputs": [
    {
     "data": {
      "text/plain": [
       "str"
      ]
     },
     "execution_count": 51,
     "metadata": {},
     "output_type": "execute_result"
    }
   ],
   "source": [
    "#check for types(can be either string or document)\n",
    "type(data)"
   ]
  },
  {
   "cell_type": "code",
   "execution_count": 52,
   "id": "c46f5bf0",
   "metadata": {},
   "outputs": [
    {
     "data": {
      "text/plain": [
       "['The world must be made safe for democracy. Its peace must be planted upon the tested foundations of',\n",
       " 'foundations of political liberty. We have no selfish ends to serve. We desire no conquest, no',\n",
       " 'no conquest, no dominion. We seek no indemnities for ourselves, no material compensation for the',\n",
       " 'for the sacrifices we shall freely make. We are but one of the champions of the rights of mankind.',\n",
       " 'rights of mankind. We shall be satisfied when those rights have been made as secure as the faith',\n",
       " 'secure as the faith and the freedom of nations can make them.',\n",
       " 'Just because we fight without rancor and without selfish object, seeking nothing for ourselves but',\n",
       " 'for ourselves but what we shall wish to share with all free peoples, we shall, I feel confident,',\n",
       " 'I feel confident, conduct our operations as belligerents without passion and ourselves observe with',\n",
       " 'observe with proud punctilio the principles of right and of fair play we profess to be fighting',\n",
       " 'to be fighting for.',\n",
       " '…',\n",
       " 'It will be all the easier for us to conduct ourselves as belligerents in a high spirit of right and',\n",
       " 'spirit of right and fairness because we act without animus, not in enmity toward a people or with',\n",
       " 'a people or with the desire to bring any injury or disadvantage upon them, but only in armed',\n",
       " 'but only in armed opposition to an irresponsible government which has thrown aside all',\n",
       " 'thrown aside all considerations of humanity and of right and is running amuck. We are, let me say',\n",
       " 'We are, let me say again, the sincere friends of the German people, and shall desire nothing so',\n",
       " 'desire nothing so much as the early reestablishment of intimate relations of mutual advantage',\n",
       " 'of mutual advantage between us—however hard it may be for them, for the time being, to believe that',\n",
       " 'to believe that this is spoken from our hearts.',\n",
       " 'We have borne with their present government through all these bitter months because of that',\n",
       " 'because of that friendship—exercising a patience and forbearance which would otherwise have been',\n",
       " 'otherwise have been impossible. We shall, happily, still have an opportunity to prove that',\n",
       " 'to prove that friendship in our daily attitude and actions toward the millions of men and women of',\n",
       " 'of men and women of German birth and native sympathy who live among us and share our life, and we',\n",
       " 'our life, and we shall be proud to prove it toward all who are in fact loyal to their neighbors and',\n",
       " 'their neighbors and to the government in the hour of test. They are, most of them, as true and',\n",
       " 'them, as true and loyal Americans as if they had never known any other fealty or allegiance. They',\n",
       " 'or allegiance. They will be prompt to stand with us in rebuking and restraining the few who may be',\n",
       " 'the few who may be of a different mind and purpose. If there should be disloyalty, it will be dealt',\n",
       " 'it will be dealt with with a firm hand of stern repression; but, if it lifts its head at all, it',\n",
       " 'its head at all, it will lift it only here and there and without countenance except from a lawless',\n",
       " 'from a lawless and malignant few.',\n",
       " 'It is a distressing and oppressive duty, gentlemen of the Congress, which I have performed in thus',\n",
       " 'performed in thus addressing you. There are, it may be, many months of fiery trial and sacrifice',\n",
       " 'trial and sacrifice ahead of us. It is a fearful thing to lead this great peaceful people into war,',\n",
       " 'people into war, into the most terrible and disastrous of all wars, civilization itself seeming to',\n",
       " 'itself seeming to be in the balance. But the right is more precious than peace, and we shall fight',\n",
       " 'and we shall fight for the things which we have always carried nearest our hearts—for democracy,',\n",
       " 'democracy, for the right of those who submit to authority to have a voice in their own governments,',\n",
       " 'own governments, for the rights and liberties of small nations, for a universal dominion of right',\n",
       " 'dominion of right by such a concert of free peoples as shall bring peace and safety to all nations',\n",
       " 'to all nations and make the world itself at last free.',\n",
       " 'To such a task we can dedicate our lives and our fortunes, everything that we are and everything',\n",
       " 'are and everything that we have, with the pride of those who know that the day has come when',\n",
       " 'day has come when America is privileged to spend her blood and her might for the principles that',\n",
       " 'the principles that gave her birth and happiness and the peace which she has treasured. God helping',\n",
       " 'God helping her, she can do no other.']"
      ]
     },
     "execution_count": 52,
     "metadata": {},
     "output_type": "execute_result"
    }
   ],
   "source": [
    "# using recursive character text splitter\n",
    "split_data = RecursiveCharacterTextSplitter(chunk_size=100, chunk_overlap=20)\n",
    "# split the data into chunks\n",
    "new_data = split_data.split_text(data)\n",
    "new_data"
   ]
  },
  {
   "cell_type": "code",
   "execution_count": 53,
   "id": "813b200b",
   "metadata": {},
   "outputs": [
    {
     "name": "stdout",
     "output_type": "stream",
     "text": [
      "The world must be made safe for democracy. Its peace must be planted upon the tested foundations of\n",
      "foundations of political liberty. We have no selfish ends to serve. We desire no conquest, no\n"
     ]
    }
   ],
   "source": [
    "print(new_data[0])  # print the first chunk of data\n",
    "print(new_data[1])  # print the second chunk of data"
   ]
  },
  {
   "cell_type": "code",
   "execution_count": 54,
   "id": "02dd2421",
   "metadata": {},
   "outputs": [
    {
     "data": {
      "text/plain": [
       "[Document(metadata={}, page_content='The world must be made safe for democracy. Its peace must be planted upon the tested foundations of'),\n",
       " Document(metadata={}, page_content='foundations of political liberty. We have no selfish ends to serve. We desire no conquest, no'),\n",
       " Document(metadata={}, page_content='no conquest, no dominion. We seek no indemnities for ourselves, no material compensation for the'),\n",
       " Document(metadata={}, page_content='for the sacrifices we shall freely make. We are but one of the champions of the rights of mankind.'),\n",
       " Document(metadata={}, page_content='rights of mankind. We shall be satisfied when those rights have been made as secure as the faith'),\n",
       " Document(metadata={}, page_content='secure as the faith and the freedom of nations can make them.'),\n",
       " Document(metadata={}, page_content='Just because we fight without rancor and without selfish object, seeking nothing for ourselves but'),\n",
       " Document(metadata={}, page_content='for ourselves but what we shall wish to share with all free peoples, we shall, I feel confident,'),\n",
       " Document(metadata={}, page_content='I feel confident, conduct our operations as belligerents without passion and ourselves observe with'),\n",
       " Document(metadata={}, page_content='observe with proud punctilio the principles of right and of fair play we profess to be fighting'),\n",
       " Document(metadata={}, page_content='to be fighting for.'),\n",
       " Document(metadata={}, page_content='…'),\n",
       " Document(metadata={}, page_content='It will be all the easier for us to conduct ourselves as belligerents in a high spirit of right and'),\n",
       " Document(metadata={}, page_content='spirit of right and fairness because we act without animus, not in enmity toward a people or with'),\n",
       " Document(metadata={}, page_content='a people or with the desire to bring any injury or disadvantage upon them, but only in armed'),\n",
       " Document(metadata={}, page_content='but only in armed opposition to an irresponsible government which has thrown aside all'),\n",
       " Document(metadata={}, page_content='thrown aside all considerations of humanity and of right and is running amuck. We are, let me say'),\n",
       " Document(metadata={}, page_content='We are, let me say again, the sincere friends of the German people, and shall desire nothing so'),\n",
       " Document(metadata={}, page_content='desire nothing so much as the early reestablishment of intimate relations of mutual advantage'),\n",
       " Document(metadata={}, page_content='of mutual advantage between us—however hard it may be for them, for the time being, to believe that'),\n",
       " Document(metadata={}, page_content='to believe that this is spoken from our hearts.'),\n",
       " Document(metadata={}, page_content='We have borne with their present government through all these bitter months because of that'),\n",
       " Document(metadata={}, page_content='because of that friendship—exercising a patience and forbearance which would otherwise have been'),\n",
       " Document(metadata={}, page_content='otherwise have been impossible. We shall, happily, still have an opportunity to prove that'),\n",
       " Document(metadata={}, page_content='to prove that friendship in our daily attitude and actions toward the millions of men and women of'),\n",
       " Document(metadata={}, page_content='of men and women of German birth and native sympathy who live among us and share our life, and we'),\n",
       " Document(metadata={}, page_content='our life, and we shall be proud to prove it toward all who are in fact loyal to their neighbors and'),\n",
       " Document(metadata={}, page_content='their neighbors and to the government in the hour of test. They are, most of them, as true and'),\n",
       " Document(metadata={}, page_content='them, as true and loyal Americans as if they had never known any other fealty or allegiance. They'),\n",
       " Document(metadata={}, page_content='or allegiance. They will be prompt to stand with us in rebuking and restraining the few who may be'),\n",
       " Document(metadata={}, page_content='the few who may be of a different mind and purpose. If there should be disloyalty, it will be dealt'),\n",
       " Document(metadata={}, page_content='it will be dealt with with a firm hand of stern repression; but, if it lifts its head at all, it'),\n",
       " Document(metadata={}, page_content='its head at all, it will lift it only here and there and without countenance except from a lawless'),\n",
       " Document(metadata={}, page_content='from a lawless and malignant few.'),\n",
       " Document(metadata={}, page_content='It is a distressing and oppressive duty, gentlemen of the Congress, which I have performed in thus'),\n",
       " Document(metadata={}, page_content='performed in thus addressing you. There are, it may be, many months of fiery trial and sacrifice'),\n",
       " Document(metadata={}, page_content='trial and sacrifice ahead of us. It is a fearful thing to lead this great peaceful people into war,'),\n",
       " Document(metadata={}, page_content='people into war, into the most terrible and disastrous of all wars, civilization itself seeming to'),\n",
       " Document(metadata={}, page_content='itself seeming to be in the balance. But the right is more precious than peace, and we shall fight'),\n",
       " Document(metadata={}, page_content='and we shall fight for the things which we have always carried nearest our hearts—for democracy,'),\n",
       " Document(metadata={}, page_content='democracy, for the right of those who submit to authority to have a voice in their own governments,'),\n",
       " Document(metadata={}, page_content='own governments, for the rights and liberties of small nations, for a universal dominion of right'),\n",
       " Document(metadata={}, page_content='dominion of right by such a concert of free peoples as shall bring peace and safety to all nations'),\n",
       " Document(metadata={}, page_content='to all nations and make the world itself at last free.'),\n",
       " Document(metadata={}, page_content='To such a task we can dedicate our lives and our fortunes, everything that we are and everything'),\n",
       " Document(metadata={}, page_content='are and everything that we have, with the pride of those who know that the day has come when'),\n",
       " Document(metadata={}, page_content='day has come when America is privileged to spend her blood and her might for the principles that'),\n",
       " Document(metadata={}, page_content='the principles that gave her birth and happiness and the peace which she has treasured. God helping'),\n",
       " Document(metadata={}, page_content='God helping her, she can do no other.')]"
      ]
     },
     "execution_count": 54,
     "metadata": {},
     "output_type": "execute_result"
    }
   ],
   "source": [
    "created_data = split_data.create_documents([data])\n",
    "created_data"
   ]
  },
  {
   "cell_type": "code",
   "execution_count": 55,
   "id": "85369ac0",
   "metadata": {},
   "outputs": [
    {
     "data": {
      "text/plain": [
       "list"
      ]
     },
     "execution_count": 55,
     "metadata": {},
     "output_type": "execute_result"
    }
   ],
   "source": [
    "type([data])"
   ]
  },
  {
   "cell_type": "code",
   "execution_count": 56,
   "id": "3158d18c",
   "metadata": {},
   "outputs": [
    {
     "data": {
      "text/plain": [
       "[Document(metadata={}, page_content='The world must be made safe for democracy. Its peace must be planted upon the tested foundations of'),\n",
       " Document(metadata={}, page_content='foundations of political liberty. We have no selfish ends to serve. We desire no conquest, no'),\n",
       " Document(metadata={}, page_content='no conquest, no dominion. We seek no indemnities for ourselves, no material compensation for the'),\n",
       " Document(metadata={}, page_content='for the sacrifices we shall freely make. We are but one of the champions of the rights of mankind.'),\n",
       " Document(metadata={}, page_content='rights of mankind. We shall be satisfied when those rights have been made as secure as the faith'),\n",
       " Document(metadata={}, page_content='secure as the faith and the freedom of nations can make them.'),\n",
       " Document(metadata={}, page_content='Just because we fight without rancor and without selfish object, seeking nothing for ourselves but'),\n",
       " Document(metadata={}, page_content='for ourselves but what we shall wish to share with all free peoples, we shall, I feel confident,'),\n",
       " Document(metadata={}, page_content='I feel confident, conduct our operations as belligerents without passion and ourselves observe with'),\n",
       " Document(metadata={}, page_content='observe with proud punctilio the principles of right and of fair play we profess to be fighting'),\n",
       " Document(metadata={}, page_content='to be fighting for.'),\n",
       " Document(metadata={}, page_content='…'),\n",
       " Document(metadata={}, page_content='It will be all the easier for us to conduct ourselves as belligerents in a high spirit of right and'),\n",
       " Document(metadata={}, page_content='spirit of right and fairness because we act without animus, not in enmity toward a people or with'),\n",
       " Document(metadata={}, page_content='a people or with the desire to bring any injury or disadvantage upon them, but only in armed'),\n",
       " Document(metadata={}, page_content='but only in armed opposition to an irresponsible government which has thrown aside all'),\n",
       " Document(metadata={}, page_content='thrown aside all considerations of humanity and of right and is running amuck. We are, let me say'),\n",
       " Document(metadata={}, page_content='We are, let me say again, the sincere friends of the German people, and shall desire nothing so'),\n",
       " Document(metadata={}, page_content='desire nothing so much as the early reestablishment of intimate relations of mutual advantage'),\n",
       " Document(metadata={}, page_content='of mutual advantage between us—however hard it may be for them, for the time being, to believe that'),\n",
       " Document(metadata={}, page_content='to believe that this is spoken from our hearts.'),\n",
       " Document(metadata={}, page_content='We have borne with their present government through all these bitter months because of that'),\n",
       " Document(metadata={}, page_content='because of that friendship—exercising a patience and forbearance which would otherwise have been'),\n",
       " Document(metadata={}, page_content='otherwise have been impossible. We shall, happily, still have an opportunity to prove that'),\n",
       " Document(metadata={}, page_content='to prove that friendship in our daily attitude and actions toward the millions of men and women of'),\n",
       " Document(metadata={}, page_content='of men and women of German birth and native sympathy who live among us and share our life, and we'),\n",
       " Document(metadata={}, page_content='our life, and we shall be proud to prove it toward all who are in fact loyal to their neighbors and'),\n",
       " Document(metadata={}, page_content='their neighbors and to the government in the hour of test. They are, most of them, as true and'),\n",
       " Document(metadata={}, page_content='them, as true and loyal Americans as if they had never known any other fealty or allegiance. They'),\n",
       " Document(metadata={}, page_content='or allegiance. They will be prompt to stand with us in rebuking and restraining the few who may be'),\n",
       " Document(metadata={}, page_content='the few who may be of a different mind and purpose. If there should be disloyalty, it will be dealt'),\n",
       " Document(metadata={}, page_content='it will be dealt with with a firm hand of stern repression; but, if it lifts its head at all, it'),\n",
       " Document(metadata={}, page_content='its head at all, it will lift it only here and there and without countenance except from a lawless'),\n",
       " Document(metadata={}, page_content='from a lawless and malignant few.'),\n",
       " Document(metadata={}, page_content='It is a distressing and oppressive duty, gentlemen of the Congress, which I have performed in thus'),\n",
       " Document(metadata={}, page_content='performed in thus addressing you. There are, it may be, many months of fiery trial and sacrifice'),\n",
       " Document(metadata={}, page_content='trial and sacrifice ahead of us. It is a fearful thing to lead this great peaceful people into war,'),\n",
       " Document(metadata={}, page_content='people into war, into the most terrible and disastrous of all wars, civilization itself seeming to'),\n",
       " Document(metadata={}, page_content='itself seeming to be in the balance. But the right is more precious than peace, and we shall fight'),\n",
       " Document(metadata={}, page_content='and we shall fight for the things which we have always carried nearest our hearts—for democracy,'),\n",
       " Document(metadata={}, page_content='democracy, for the right of those who submit to authority to have a voice in their own governments,'),\n",
       " Document(metadata={}, page_content='own governments, for the rights and liberties of small nations, for a universal dominion of right'),\n",
       " Document(metadata={}, page_content='dominion of right by such a concert of free peoples as shall bring peace and safety to all nations'),\n",
       " Document(metadata={}, page_content='to all nations and make the world itself at last free.'),\n",
       " Document(metadata={}, page_content='To such a task we can dedicate our lives and our fortunes, everything that we are and everything'),\n",
       " Document(metadata={}, page_content='are and everything that we have, with the pride of those who know that the day has come when'),\n",
       " Document(metadata={}, page_content='day has come when America is privileged to spend her blood and her might for the principles that'),\n",
       " Document(metadata={}, page_content='the principles that gave her birth and happiness and the peace which she has treasured. God helping'),\n",
       " Document(metadata={}, page_content='God helping her, she can do no other.')]"
      ]
     },
     "execution_count": 56,
     "metadata": {},
     "output_type": "execute_result"
    }
   ],
   "source": [
    "documents = [Document(page_content=data)]\n",
    "\n",
    "# Now split the documents\n",
    "splitted_data = split_data.split_documents(documents)\n",
    "splitted_data"
   ]
  },
  {
   "cell_type": "code",
   "execution_count": null,
   "id": "73a3dde8",
   "metadata": {},
   "outputs": [],
   "source": []
  }
 ],
 "metadata": {
  "kernelspec": {
   "display_name": "Python (genaidev)",
   "language": "python",
   "name": "genaidev"
  },
  "language_info": {
   "codemirror_mode": {
    "name": "ipython",
    "version": 3
   },
   "file_extension": ".py",
   "mimetype": "text/x-python",
   "name": "python",
   "nbconvert_exporter": "python",
   "pygments_lexer": "ipython3",
   "version": "3.10.18"
  }
 },
 "nbformat": 4,
 "nbformat_minor": 5
}
